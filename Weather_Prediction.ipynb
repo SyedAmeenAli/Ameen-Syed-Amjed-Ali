{
  "nbformat": 4,
  "nbformat_minor": 0,
  "metadata": {
    "colab": {
      "provenance": [],
      "authorship_tag": "ABX9TyNzy3s45AlqYnfIgLPRN1rO",
      "include_colab_link": true
    },
    "kernelspec": {
      "name": "python3",
      "display_name": "Python 3"
    },
    "language_info": {
      "name": "python"
    }
  },
  "cells": [
    {
      "cell_type": "markdown",
      "metadata": {
        "id": "view-in-github",
        "colab_type": "text"
      },
      "source": [
        "<a href=\"https://colab.research.google.com/github/SyedAmeenAli/SyedAmeenAli/blob/main/Weather_Prediction.ipynb\" target=\"_parent\"><img src=\"https://colab.research.google.com/assets/colab-badge.svg\" alt=\"Open In Colab\"/></a>"
      ]
    },
    {
      "cell_type": "code",
      "source": [],
      "metadata": {
        "id": "YQVto2lS3t7H"
      },
      "execution_count": null,
      "outputs": []
    },
    {
      "source": [
        "\n"
      ],
      "cell_type": "code",
      "metadata": {
        "id": "amtWMSg34Spz"
      },
      "execution_count": 3,
      "outputs": []
    },
    {
      "source": [
        "def predict_weather(temperature, humidity, wind):\n",
        "    \"\"\"Predicts the weather based on temperature, humidity, and wind.\n",
        "\n",
        "    Args:\n",
        "        temperature: The temperature in Celsius.\n",
        "        humidity: The humidity in percentage.\n",
        "        wind: The wind speed in km/h.\n",
        "\n",
        "    Returns:\n",
        "        A string representing the predicted weather: \"sunny\", \"rainy\", or \"stormy\".\n",
        "    \"\"\"\n",
        "\n",
        "    weather_score = (0.5 * temperature * temperature) - (0.2 * humidity) + (0.1 * wind) - 15\n",
        "\n",
        "    print (weather_score)\n",
        "\n",
        "    if weather_score > 300:\n",
        "        weather = \"sunny\"\n",
        "    elif 200< weather_score <= 300:\n",
        "        weather = \"rainy\"\n",
        "    else:\n",
        "        weather = \"stormy\"\n",
        "\n",
        "    return weather\n",
        "\n",
        "temperature = float(input(\"Enter the temperature in Celsius: \"))\n",
        "humidity = float(input(\"Enter the humidity in percentage: \"))\n",
        "wind = float(input(\"Enter the wind speed in km/h: \"))\n",
        "\n",
        "weather = predict_weather(temperature, humidity, wind)\n",
        "\n",
        "print(\"The predicted weather is:\", weather)"
      ],
      "cell_type": "code",
      "metadata": {
        "colab": {
          "base_uri": "https://localhost:8080/"
        },
        "id": "sxoq_WmR7qGV",
        "outputId": "03732aeb-5d07-4bd7-d9e7-4fa8603315ae"
      },
      "execution_count": 10,
      "outputs": [
        {
          "output_type": "stream",
          "name": "stdout",
          "text": [
            "Enter the temperature in Celsius: 30\n",
            "Enter the humidity in percentage: 40\n",
            "Enter the wind speed in km/h: 10\n",
            "428.0\n",
            "The predicted weather is: sunny\n"
          ]
        }
      ]
    }
  ]
}